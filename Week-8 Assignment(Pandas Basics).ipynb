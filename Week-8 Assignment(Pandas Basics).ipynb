{
 "cells": [
  {
   "cell_type": "markdown",
   "id": "1782e9e0-85f7-4bb7-8c50-569cf273ae75",
   "metadata": {},
   "source": [
    "Q1"
   ]
  },
  {
   "cell_type": "code",
   "execution_count": 1,
   "id": "ef62915a-f0f2-47e0-b25a-bf755a94bd77",
   "metadata": {},
   "outputs": [],
   "source": [
    "import pandas as pd"
   ]
  },
  {
   "cell_type": "code",
   "execution_count": 2,
   "id": "9ab272f3-b8d6-4496-bc5d-896aad31a6b5",
   "metadata": {},
   "outputs": [],
   "source": [
    "s=pd.Series([ 4, 8, 15, 16, 23,42])"
   ]
  },
  {
   "cell_type": "code",
   "execution_count": 3,
   "id": "256552f6-dd3c-4b14-93d9-bf2f8b9983c3",
   "metadata": {},
   "outputs": [
    {
     "data": {
      "text/plain": [
       "0     4\n",
       "1     8\n",
       "2    15\n",
       "3    16\n",
       "4    23\n",
       "5    42\n",
       "dtype: int64"
      ]
     },
     "execution_count": 3,
     "metadata": {},
     "output_type": "execute_result"
    }
   ],
   "source": [
    "s"
   ]
  },
  {
   "cell_type": "markdown",
   "id": "1f8f62df-66b5-4978-9dd1-f8c319100419",
   "metadata": {},
   "source": [
    "Q2"
   ]
  },
  {
   "cell_type": "code",
   "execution_count": 4,
   "id": "83868e16-60a8-40bc-864c-13fbddf86d5a",
   "metadata": {},
   "outputs": [],
   "source": [
    "l=[12,11,120,13,42,8,91,65,49,53]"
   ]
  },
  {
   "cell_type": "code",
   "execution_count": 5,
   "id": "c86b99a7-01fe-45f0-8e51-89a1119c8b27",
   "metadata": {},
   "outputs": [],
   "source": [
    "s=pd.Series(list(l))"
   ]
  },
  {
   "cell_type": "code",
   "execution_count": 7,
   "id": "ca8fe819-c303-4e9e-90bd-5be3d79d28c6",
   "metadata": {},
   "outputs": [
    {
     "data": {
      "text/plain": [
       "0     12\n",
       "1     11\n",
       "2    120\n",
       "3     13\n",
       "4     42\n",
       "5      8\n",
       "6     91\n",
       "7     65\n",
       "8     49\n",
       "9     53\n",
       "dtype: int64"
      ]
     },
     "execution_count": 7,
     "metadata": {},
     "output_type": "execute_result"
    }
   ],
   "source": [
    "s"
   ]
  },
  {
   "cell_type": "markdown",
   "id": "3efb7329-c8fa-4104-b339-ab748b55d612",
   "metadata": {},
   "source": [
    "Q3"
   ]
  },
  {
   "cell_type": "code",
   "execution_count": 8,
   "id": "0029fca9-9158-40e5-b1b1-e0529c5b1e8a",
   "metadata": {},
   "outputs": [],
   "source": [
    "data={'Name':['Alice','Bob','Claire'],\n",
    "      'Age':[25,30,27],\n",
    "      'Gender':['Female','Male','Female']\n",
    "}"
   ]
  },
  {
   "cell_type": "code",
   "execution_count": 12,
   "id": "b94e7f9b-1e2b-4352-ae38-bcf45b93fcc9",
   "metadata": {},
   "outputs": [],
   "source": [
    "df=pd.DataFrame(data)"
   ]
  },
  {
   "cell_type": "code",
   "execution_count": 13,
   "id": "f20c1410-1778-414b-8b03-5ab09ea30dfc",
   "metadata": {},
   "outputs": [
    {
     "data": {
      "text/html": [
       "<div>\n",
       "<style scoped>\n",
       "    .dataframe tbody tr th:only-of-type {\n",
       "        vertical-align: middle;\n",
       "    }\n",
       "\n",
       "    .dataframe tbody tr th {\n",
       "        vertical-align: top;\n",
       "    }\n",
       "\n",
       "    .dataframe thead th {\n",
       "        text-align: right;\n",
       "    }\n",
       "</style>\n",
       "<table border=\"1\" class=\"dataframe\">\n",
       "  <thead>\n",
       "    <tr style=\"text-align: right;\">\n",
       "      <th></th>\n",
       "      <th>Name</th>\n",
       "      <th>Age</th>\n",
       "      <th>Gender</th>\n",
       "    </tr>\n",
       "  </thead>\n",
       "  <tbody>\n",
       "    <tr>\n",
       "      <th>0</th>\n",
       "      <td>Alice</td>\n",
       "      <td>25</td>\n",
       "      <td>Female</td>\n",
       "    </tr>\n",
       "    <tr>\n",
       "      <th>1</th>\n",
       "      <td>Bob</td>\n",
       "      <td>30</td>\n",
       "      <td>Male</td>\n",
       "    </tr>\n",
       "    <tr>\n",
       "      <th>2</th>\n",
       "      <td>Claire</td>\n",
       "      <td>27</td>\n",
       "      <td>Female</td>\n",
       "    </tr>\n",
       "  </tbody>\n",
       "</table>\n",
       "</div>"
      ],
      "text/plain": [
       "     Name  Age  Gender\n",
       "0   Alice   25  Female\n",
       "1     Bob   30    Male\n",
       "2  Claire   27  Female"
      ]
     },
     "execution_count": 13,
     "metadata": {},
     "output_type": "execute_result"
    }
   ],
   "source": [
    "df"
   ]
  },
  {
   "cell_type": "markdown",
   "id": "99ec53c6-4aad-4bde-a140-fc422bc9fd44",
   "metadata": {},
   "source": [
    "Q4"
   ]
  },
  {
   "cell_type": "markdown",
   "id": "a0547f40-9ea3-4834-9974-3c715183a586",
   "metadata": {},
   "source": [
    "A DataFrame is a two-dimensional data structure that can store data in a tabular format, with rows and columns. A Series is a one-dimensional data structure that can store data in a single column or row. Both DataFrame and Series are part of the pandas library, which is a popular tool for data analysis in Python. "
   ]
  },
  {
   "cell_type": "code",
   "execution_count": 15,
   "id": "2f65ea43-2028-4709-a141-e45e167004a6",
   "metadata": {},
   "outputs": [
    {
     "name": "stdout",
     "output_type": "stream",
     "text": [
      "      Name  Age  Id\n",
      "0    Samir   20   1\n",
      "1  Prashil   18   2\n",
      "2   Sanket   19   3\n",
      "3    Laksh   21   4\n"
     ]
    }
   ],
   "source": [
    "#Example of DataFrame\n",
    "data={'Name':['Samir','Prashil','Sanket','Laksh'],\n",
    "      'Age':[20,18,19,21],\n",
    "      'Id':[1,2,3,4]\n",
    "}\n",
    "df=pd.DataFrame(data)\n",
    "print(df)"
   ]
  },
  {
   "cell_type": "code",
   "execution_count": 16,
   "id": "cb8fd993-b867-4251-8b25-b86fca741e17",
   "metadata": {},
   "outputs": [
    {
     "name": "stdout",
     "output_type": "stream",
     "text": [
      "0    12\n",
      "1    17\n",
      "2    22\n",
      "3    15\n",
      "4    10\n",
      "5    31\n",
      "6    97\n",
      "dtype: int64\n"
     ]
    }
   ],
   "source": [
    "#Example of Series\n",
    "data=[12,17,22,15,10,31,97]\n",
    "s=pd.Series(list(data))\n",
    "print(s)"
   ]
  },
  {
   "cell_type": "markdown",
   "id": "60cae648-4128-48b5-8687-afb7ac963af4",
   "metadata": {},
   "source": [
    "Q5"
   ]
  },
  {
   "cell_type": "code",
   "execution_count": 20,
   "id": "28fd5795-e11c-4432-b393-7e9f1c34b145",
   "metadata": {},
   "outputs": [],
   "source": [
    "#Functions use to manipulate data\n",
    "#head - to see first five or n number of rows\n",
    "#tail - to see last five or n number of rows\n",
    "#describe - to see mean, max, min, etc.\n",
    "#columns - to see the number of cloumns \n",
    "#iloc & loc - to retrive a particular rows and columns from the data."
   ]
  },
  {
   "cell_type": "markdown",
   "id": "dbb13d29-cae5-4356-80d9-9c449bfed1ee",
   "metadata": {},
   "source": [
    "Q6"
   ]
  },
  {
   "cell_type": "markdown",
   "id": "5e66eaf0-1381-47d3-9b5f-82899c9df0d9",
   "metadata": {},
   "source": [
    "Series, DataFrame, and Panel are data structures that are part of the pandas library, which is a popular tool for data analysis and manipulation in Python. All of these data structures are mutable in nature, which means that they can be modified or changed after they are created."
   ]
  },
  {
   "cell_type": "markdown",
   "id": "db30d036-254e-477d-8f7b-ec267cee3d3b",
   "metadata": {},
   "source": [
    "Q7"
   ]
  },
  {
   "cell_type": "code",
   "execution_count": 19,
   "id": "aa686516-f63c-41bd-a9c0-4bc9fe88cfa9",
   "metadata": {},
   "outputs": [
    {
     "name": "stdout",
     "output_type": "stream",
     "text": [
      "    A   B   C\n",
      "0   1  22  11\n",
      "1   9  34   8\n",
      "2  12  62   7\n"
     ]
    }
   ],
   "source": [
    "s1=pd.Series([1,9,12])\n",
    "s2=pd.Series([22,34,62])\n",
    "s3=pd.Series([11,8,7])\n",
    "df=pd.DataFrame({'A':s1,'B':s2,'C':s3})\n",
    "print(df)"
   ]
  },
  {
   "cell_type": "code",
   "execution_count": null,
   "id": "b7840fe7-a8df-4e78-b678-1411c2a92dd4",
   "metadata": {},
   "outputs": [],
   "source": []
  }
 ],
 "metadata": {
  "kernelspec": {
   "display_name": "Python 3 (ipykernel)",
   "language": "python",
   "name": "python3"
  },
  "language_info": {
   "codemirror_mode": {
    "name": "ipython",
    "version": 3
   },
   "file_extension": ".py",
   "mimetype": "text/x-python",
   "name": "python",
   "nbconvert_exporter": "python",
   "pygments_lexer": "ipython3",
   "version": "3.10.8"
  }
 },
 "nbformat": 4,
 "nbformat_minor": 5
}
